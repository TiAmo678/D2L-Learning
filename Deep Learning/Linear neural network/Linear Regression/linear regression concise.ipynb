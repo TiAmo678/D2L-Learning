{
 "cells": [
  {
   "cell_type": "code",
   "execution_count": 25,
   "id": "433d1f9e-f256-4583-b46f-c5169dee04b1",
   "metadata": {},
   "outputs": [],
   "source": [
    "import numpy as np\n",
    "import torch\n",
    "from torch.utils import data\n",
    "from d2l import torch as d2l"
   ]
  },
  {
   "cell_type": "code",
   "execution_count": 26,
   "id": "09304869-3720-47d7-b913-67db1432478b",
   "metadata": {},
   "outputs": [],
   "source": [
    "true_w = torch.tensor([2.0, -3.4])\n",
    "true_b = 4.2\n",
    "features, labels = d2l.synthetic_data(true_w, true_b, 1000)"
   ]
  },
  {
   "cell_type": "code",
   "execution_count": 27,
   "id": "98471724-e1d3-4e75-bf97-8157ca1d8887",
   "metadata": {},
   "outputs": [],
   "source": [
    "#读取数据集\n",
    "def load_array(data_arrays, batch_size, is_train=True): #@save\n",
    "    \"\"\"构造一个PyTorch数据迭代器\"\"\"\n",
    "    dataset = data.TensorDataset(*data_arrays)\n",
    "    return data.DataLoader(dataset, batch_size, shuffle=is_train)"
   ]
  },
  {
   "cell_type": "code",
   "execution_count": 28,
   "id": "03dd9b62-2179-40a0-9da3-d777dfd2133d",
   "metadata": {},
   "outputs": [],
   "source": [
    "batch_size = 10\n",
    "data_iter = load_array((features,labels), batch_size)"
   ]
  },
  {
   "cell_type": "code",
   "execution_count": 29,
   "id": "ef19e39b-7c74-44f1-87e8-31ba955e4e29",
   "metadata": {},
   "outputs": [
    {
     "data": {
      "text/plain": [
       "[tensor([[ 1.6095, -0.1562],\n",
       "         [ 1.1819, -0.2955],\n",
       "         [-0.2757, -0.2292],\n",
       "         [ 1.0452,  0.6923],\n",
       "         [ 1.2214,  0.3485],\n",
       "         [ 0.5748, -0.3503],\n",
       "         [ 0.0308, -0.8180],\n",
       "         [ 0.1653,  1.0138],\n",
       "         [-0.4557,  1.3399],\n",
       "         [ 1.0498,  0.4835]]),\n",
       " tensor([[ 7.9493],\n",
       "         [ 7.5770],\n",
       "         [ 4.4279],\n",
       "         [ 3.9419],\n",
       "         [ 5.4503],\n",
       "         [ 6.5419],\n",
       "         [ 7.0311],\n",
       "         [ 1.0888],\n",
       "         [-1.2635],\n",
       "         [ 4.6596]])]"
      ]
     },
     "execution_count": 29,
     "metadata": {},
     "output_type": "execute_result"
    }
   ],
   "source": [
    "next(iter(data_iter))"
   ]
  },
  {
   "cell_type": "code",
   "execution_count": 30,
   "id": "6e6eb1cf-ddbf-4788-8a13-9210d3b87c19",
   "metadata": {},
   "outputs": [
    {
     "data": {
      "text/plain": [
       "tensor([0.])"
      ]
     },
     "execution_count": 30,
     "metadata": {},
     "output_type": "execute_result"
    }
   ],
   "source": [
    "from torch import nn\n",
    "net = nn.Sequential(nn.Linear(2, 1))\n",
    "net[0].weight.data.normal_(0, 0.01)\n",
    "net[0].bias.data.fill_(0)"
   ]
  },
  {
   "cell_type": "code",
   "execution_count": 31,
   "id": "dae22e50-551b-4cf8-89b7-c6f592a611bf",
   "metadata": {},
   "outputs": [],
   "source": [
    "loss = nn.MSELoss()\n",
    "trainer = torch.optim.SGD(net.parameters(), lr=0.03)"
   ]
  },
  {
   "cell_type": "code",
   "execution_count": 32,
   "id": "b6570072-8d52-4f49-9f64-01a7f03bb1b9",
   "metadata": {},
   "outputs": [
    {
     "name": "stdout",
     "output_type": "stream",
     "text": [
      "epoch 1, loss 0.000207\n",
      "epoch 2, loss 0.000098\n",
      "epoch 3, loss 0.000098\n"
     ]
    }
   ],
   "source": [
    "num_epochs = 3\n",
    "for epoch in range(num_epochs):\n",
    "    for X, y in data_iter:\n",
    "        l = loss(net(X) ,y)\n",
    "        trainer.zero_grad()\n",
    "        l.backward()\n",
    "        trainer.step()\n",
    "    l = loss(net(features), labels)\n",
    "    print(f'epoch {epoch + 1}, loss {l:f}')"
   ]
  },
  {
   "cell_type": "code",
   "execution_count": 33,
   "id": "d8d3c65e-2f5e-41c4-bdf3-1670c207eac4",
   "metadata": {},
   "outputs": [
    {
     "name": "stdout",
     "output_type": "stream",
     "text": [
      "w的估计误差： tensor([ 0.0005, -0.0009])\n",
      "b的估计误差： tensor([0.0004])\n"
     ]
    }
   ],
   "source": [
    "w = net[0].weight.data\n",
    "print('w的估计误差：', true_w - w.reshape(true_w.shape))\n",
    "b = net[0].bias.data\n",
    "print('b的估计误差：', true_b - b)"
   ]
  },
  {
   "cell_type": "code",
   "execution_count": null,
   "id": "3798d195-a9e0-4945-8c7b-630cc4bb253c",
   "metadata": {},
   "outputs": [],
   "source": []
  }
 ],
 "metadata": {
  "kernelspec": {
   "display_name": "Python 3 (ipykernel)",
   "language": "python",
   "name": "python3"
  },
  "language_info": {
   "codemirror_mode": {
    "name": "ipython",
    "version": 3
   },
   "file_extension": ".py",
   "mimetype": "text/x-python",
   "name": "python",
   "nbconvert_exporter": "python",
   "pygments_lexer": "ipython3",
   "version": "3.9.19"
  }
 },
 "nbformat": 4,
 "nbformat_minor": 5
}
